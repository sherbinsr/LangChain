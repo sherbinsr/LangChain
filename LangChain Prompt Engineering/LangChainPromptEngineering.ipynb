{
 "cells": [
  {
   "cell_type": "markdown",
   "id": "be0e6325-066b-4d1d-8f56-1059f59f353b",
   "metadata": {},
   "source": [
    "# Lanchain Prompt Engineering using OpenAI API key"
   ]
  },
  {
   "cell_type": "code",
   "execution_count": null,
   "id": "88d1c599-e590-46c1-b160-28c4f1e14c37",
   "metadata": {},
   "outputs": [],
   "source": [
    "import os\n",
    "from dotenv import load_dotenv\n",
    "\n",
    "# Load environment variables from .env file\n",
    "load_dotenv()\n",
    "\n",
    "# Get the API key from environment variables\n",
    "openai_key = os.getenv('API_KEY')\n",
    "os.environ[\"OPENAI_API_KEY\"]= openai_key"
   ]
  },
  {
   "cell_type": "markdown",
   "id": "576acdce-9080-400f-9349-a98862d717ce",
   "metadata": {},
   "source": [
    "## Content creation Using OpenAI"
   ]
  },
  {
   "cell_type": "code",
   "execution_count": 10,
   "id": "a4ceb4d6-33cd-40ab-8be2-b3798993e68d",
   "metadata": {},
   "outputs": [
    {
     "data": {
      "text/plain": [
       "'I want you to act as a financial advisor  for people.In easy way, explain the basics of income_tax.'"
      ]
     },
     "execution_count": 10,
     "metadata": {},
     "output_type": "execute_result"
    }
   ],
   "source": [
    "from langchain import PromptTemplate\n",
    "\n",
    "# create template\n",
    "demo_template='''I want you to act as a financial advisor  for people.In easy way, explain the basics of {financial_concepts}.'''\n",
    "\n",
    "prompt=PromptTemplate(\n",
    "\n",
    "    input_variables=['financial_concepts'],\n",
    "    template=demo_template\n",
    ")\n",
    "\n",
    "prompt.format(financial_concepts='income_tax')"
   ]
  },
  {
   "cell_type": "code",
   "execution_count": null,
   "id": "55bb1bc3-6e79-4473-becb-0e5162fc7f59",
   "metadata": {},
   "outputs": [],
   "source": [
    "from langchain.llms import OpenAI\n",
    "from langchain.chains import LLMChain\n",
    "\n",
    "# Intialize LLM and chain\n",
    "llm =OpenAI(temperature=0.7)\n",
    "chain1=llm (llm=llm,prompt=prompt)"
   ]
  },
  {
   "cell_type": "code",
   "execution_count": null,
   "id": "37ff5094-a88b-4248-85ec-ee5ab90f18b5",
   "metadata": {},
   "outputs": [],
   "source": [
    "# Run chain\n",
    "chain1.run('GDP')"
   ]
  },
  {
   "cell_type": "markdown",
   "id": "39f1947a-4adc-4a22-a0fb-4f8adc0b8d0d",
   "metadata": {},
   "source": [
    "## Transaltor using OpenAI API"
   ]
  },
  {
   "cell_type": "code",
   "execution_count": 12,
   "id": "6286e7e1-9aab-49d8-b217-39cf9bd205d6",
   "metadata": {},
   "outputs": [
    {
     "data": {
      "text/plain": [
       "\"Translate the  following sentence 'How are you' into tamil\""
      ]
     },
     "execution_count": 12,
     "metadata": {},
     "output_type": "execute_result"
    }
   ],
   "source": [
    "template ='''Translate the  following sentence '{sentence}' into {target_language}'''\n",
    "language_prompt = PromptTemplate(\n",
    "\n",
    "    input_variables =[\"sentence\",\"target_language\"],\n",
    "    template =template,\n",
    ")\n",
    "language_prompt.format(sentence=\"How are you\",target_language=\"french\")"
   ]
  },
  {
   "cell_type": "code",
   "execution_count": null,
   "id": "9cedf143-4472-458d-8d15-133a8bba6407",
   "metadata": {},
   "outputs": [],
   "source": [
    "chain2=LLMChain(llm=llm,prompt=language_prompt)\n",
    "# when you have more than one parameter of input you have to use \n",
    "chain2({'sentence':\"hello how are you\",'target_language':'french'})"
   ]
  }
 ],
 "metadata": {
  "kernelspec": {
   "display_name": "Python 3 (ipykernel)",
   "language": "python",
   "name": "python3"
  },
  "language_info": {
   "codemirror_mode": {
    "name": "ipython",
    "version": 3
   },
   "file_extension": ".py",
   "mimetype": "text/x-python",
   "name": "python",
   "nbconvert_exporter": "python",
   "pygments_lexer": "ipython3",
   "version": "3.12.4"
  }
 },
 "nbformat": 4,
 "nbformat_minor": 5
}
