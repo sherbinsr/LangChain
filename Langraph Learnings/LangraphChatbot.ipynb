{
 "cells": [
  {
   "cell_type": "markdown",
   "id": "54b86c83-0555-4b9d-bc2e-1e8db13e10c9",
   "metadata": {},
   "source": [
    "# Langraph Chatbot with Tools"
   ]
  },
  {
   "cell_type": "code",
   "execution_count": null,
   "id": "6d4bc088-73fb-4d11-9763-4c3391564bdb",
   "metadata": {},
   "outputs": [],
   "source": [
    "pip install langchain_community langgraph langsmith langchain langchain_groq"
   ]
  },
  {
   "cell_type": "code",
   "execution_count": 95,
   "id": "c8804a06-7f2b-4ddb-b46c-599d7bbad6f6",
   "metadata": {},
   "outputs": [],
   "source": [
    "from typing import Annotated\n",
    "from typing_extensions import TypedDict"
   ]
  },
  {
   "cell_type": "markdown",
   "id": "4f2aa51f-577a-4c5a-99d3-b53c028985a3",
   "metadata": {},
   "source": [
    "## Working with external tools"
   ]
  },
  {
   "cell_type": "code",
   "execution_count": 97,
   "id": "185cef16-ab0d-45fc-932f-35e449dd1417",
   "metadata": {},
   "outputs": [],
   "source": [
    "from langchain_community.utilities import ArxivAPIWrapper,WikipediaAPIWrapper\n",
    "from langchain_community.tools import ArxivQueryRun,WikipediaQueryRun"
   ]
  },
  {
   "cell_type": "markdown",
   "id": "db1de445-399f-4c4d-bd56-3aaa29a31a85",
   "metadata": {},
   "source": [
    "## Arxiv and wikipedia tools"
   ]
  },
  {
   "cell_type": "code",
   "execution_count": null,
   "id": "6eb4722b-ae9e-4137-b1e8-ce5a198a6d15",
   "metadata": {},
   "outputs": [],
   "source": [
    "pip install arxiv wikipedia"
   ]
  },
  {
   "cell_type": "code",
   "execution_count": 100,
   "id": "4cabbd30-4b6c-4039-bd5a-90ed3821dfd4",
   "metadata": {},
   "outputs": [],
   "source": [
    "#Arxiv wrapper\n",
    "arxiv_wrapper = ArxivAPIWrapper(top_k_results=1, doc_content_chars_max=300)\n",
    "arxiv_tool =ArxivQueryRun(api_wrapper=arxiv_wrapper)\n",
    "\n",
    "#wikipedia wrapper\n",
    "wiki_wrapper = WikipediaAPIWrapper(top_k_results=1, doc_content_chars_max=300)\n",
    "wiki_tool = WikipediaQueryRun(api_wrapper=wiki_wrapper)"
   ]
  },
  {
   "cell_type": "code",
   "execution_count": 102,
   "id": "58b03efb-ef3f-4ab5-8770-9d3a20cd3ff2",
   "metadata": {},
   "outputs": [
    {
     "data": {
      "text/plain": [
       "'Page: Tom Cruise filmography\\nSummary: Tom Cruise is an American actor and producer who made his film debut with a minor role in the 1981 romantic drama Endless Love. 1985 stared in Legend.  Two years later, he made his breakthrough by starring in the romantic comedy Risky Business (1983), which garn'"
      ]
     },
     "execution_count": 102,
     "metadata": {},
     "output_type": "execute_result"
    }
   ],
   "source": [
    "wiki_tool(\"who is actor Tom Cruise\")"
   ]
  },
  {
   "cell_type": "code",
   "execution_count": 104,
   "id": "d65fd5a7-6a9d-4ce7-8c31-af3ef8e2b004",
   "metadata": {},
   "outputs": [
    {
     "data": {
      "text/plain": [
       "'Published: 2018-07-02\\nTitle: The Matrix Calculus You Need For Deep Learning\\nAuthors: Terence Parr, Jeremy Howard\\nSummary: This paper is an attempt to explain all the matrix calculus you need in order\\nto understand the training of deep neural networks. We assume no math knowledge\\nbeyond what you lear'"
      ]
     },
     "execution_count": 104,
     "metadata": {},
     "output_type": "execute_result"
    }
   ],
   "source": [
    "arxiv_tool.invoke(\"Attentio is all you need\")"
   ]
  },
  {
   "cell_type": "code",
   "execution_count": 106,
   "id": "093ed8f4-b4ae-44c4-b314-5ef84209c9de",
   "metadata": {},
   "outputs": [],
   "source": [
    "tools=[wiki_tool]"
   ]
  },
  {
   "cell_type": "markdown",
   "id": "3b05ebab-b925-4dd3-a3ce-3fce24c1c5cd",
   "metadata": {},
   "source": [
    "## Langraph Application"
   ]
  },
  {
   "cell_type": "code",
   "execution_count": 108,
   "id": "15823449-a689-4976-9b16-1a5148136d51",
   "metadata": {},
   "outputs": [],
   "source": [
    "from langgraph.graph.message import add_messages\n",
    "class State(TypedDict):\n",
    "    messages:Annotated[list,add_messages]\n",
    "    "
   ]
  },
  {
   "cell_type": "code",
   "execution_count": 110,
   "id": "86f0e802-fb24-4ddf-90b6-48998bb62e6d",
   "metadata": {},
   "outputs": [],
   "source": [
    "from langgraph.graph import StateGraph,START,END"
   ]
  },
  {
   "cell_type": "code",
   "execution_count": 112,
   "id": "d4192657-235b-427c-ae69-482cffdfc78f",
   "metadata": {},
   "outputs": [],
   "source": [
    "graph_builder = StateGraph(State)"
   ]
  },
  {
   "cell_type": "code",
   "execution_count": 114,
   "id": "d5f47523-467c-44de-be99-88ef49837f6e",
   "metadata": {},
   "outputs": [],
   "source": [
    "from langchain_groq import ChatGroq"
   ]
  },
  {
   "cell_type": "code",
   "execution_count": 116,
   "id": "0c3d0ccb-b572-4e57-a8ad-d3c3c83b9238",
   "metadata": {},
   "outputs": [
    {
     "name": "stdout",
     "output_type": "stream",
     "text": [
      "API key has been all set.\n"
     ]
    }
   ],
   "source": [
    "import os\n",
    "\n",
    "# Define the API key or get it from environment variables\n",
    "grok_api_key = os.getenv('grok_Api_key')\n",
    "\n",
    "if grok_api_key is None:\n",
    "    # Assign a value to the API key if it’s not found in the environment\n",
    "    grok_api_key = \"your_actual_api_key_here\"  # Replace with your actual API key\n",
    "\n",
    "# Set the environment variable\n",
    "os.environ[\"grok_Api_key\"] = grok_api_key\n",
    "print(\"API key has been all set.\")\n"
   ]
  },
  {
   "cell_type": "code",
   "execution_count": 118,
   "id": "d13bd75a-5fd8-4956-afe2-3e112e3e666e",
   "metadata": {},
   "outputs": [],
   "source": [
    "llm=ChatGroq(groq_api_key=grok_api_key,model_name=\"Gemma2-9b-It\")"
   ]
  },
  {
   "cell_type": "code",
   "execution_count": 120,
   "id": "1bcc5fd2-8afd-495b-8b68-f25c8f37e870",
   "metadata": {},
   "outputs": [],
   "source": [
    "llm_with_tools=llm.bind_tools(tools=tools)"
   ]
  },
  {
   "cell_type": "code",
   "execution_count": 122,
   "id": "9c7a9284-7611-4214-ad7f-1d7810a9735d",
   "metadata": {},
   "outputs": [],
   "source": [
    "def chatbot(state:State):\n",
    "  return {\"messages\":[llm_with_tools.invoke(state[\"messages\"])]}"
   ]
  },
  {
   "cell_type": "code",
   "execution_count": 126,
   "id": "19759229-ced8-4288-848c-e132312aa9d0",
   "metadata": {},
   "outputs": [],
   "source": [
    "from langgraph.prebuilt import ToolNode ,tools_condition"
   ]
  },
  {
   "cell_type": "code",
   "execution_count": 128,
   "id": "11d0aff8-5c9d-45a5-9e07-9f388f05df69",
   "metadata": {},
   "outputs": [],
   "source": [
    "graph_builder.add_node(\"chatbot\",chatbot)\n",
    "tool_node = ToolNode(tools=tools)\n",
    "graph_builder.add_node(\"tools\", tool_node)\n",
    "\n",
    "graph_builder.add_conditional_edges(\n",
    "    \"chatbot\",\n",
    "    tools_condition,\n",
    ")\n",
    "graph_builder.add_edge(\"tools\", \"chatbot\")\n",
    "graph_builder.add_edge(START,\"chatbot\")\n"
   ]
  },
  {
   "cell_type": "code",
   "execution_count": 130,
   "id": "7c21d75f-5460-4c99-8f78-c1a847a64605",
   "metadata": {},
   "outputs": [],
   "source": [
    "#complie graph\n",
    "graph=graph_builder.compile()"
   ]
  },
  {
   "cell_type": "code",
   "execution_count": 134,
   "id": "46796d4f-cc58-4202-a5e0-5f4bb6b2a407",
   "metadata": {},
   "outputs": [
    {
     "data": {
      "image/jpeg": "[encoded data removed]",
      "text/plain": [
       "<IPython.core.display.Image object>"
      ]
     },
     "metadata": {},
     "output_type": "display_data"
    }
   ],
   "source": [
    "# display langraph and handling exceptions\n",
    "from IPython.display import Image, display\n",
    "\n",
    "try:\n",
    "    display(Image(graph.get_graph().draw_mermaid_png()))\n",
    "except Exception:\n",
    "    # This requires some extra dependencies and is optional\n",
    "    pass"
   ]
  },
  {
   "cell_type": "code",
   "execution_count": 146,
   "id": "8cf8367e-72c4-42c5-99ee-34526b2f667c",
   "metadata": {},
   "outputs": [
    {
     "name": "stdout",
     "output_type": "stream",
     "text": [
      "================================\u001b[1m Human Message \u001b[0m=================================\n",
      "\n",
      "Hi there!, My name is jhon\n",
      "==================================\u001b[1m Ai Message \u001b[0m==================================\n",
      "Tool Calls:\n",
      "  wikipedia (call_vm4t)\n",
      " Call ID: call_vm4t\n",
      "  Args:\n",
      "    query: jhon\n",
      "=================================\u001b[1m Tool Message \u001b[0m=================================\n",
      "Name: wikipedia\n",
      "\n",
      "Page: Jhon Durán\n",
      "Summary: Jhon Jader Durán Palacio (born 13 December 2003) is a Colombian professional footballer who plays as a forward for Premier League club Aston Villa and the Colombia national team.\n",
      "==================================\u001b[1m Ai Message \u001b[0m==================================\n",
      "\n",
      "Hi Jhon, it's nice to meet you.  I see you are a professional footballer who plays for Aston Villa and the Colombia national team.\n"
     ]
    }
   ],
   "source": [
    "user_input=\"Hi there!, My name is jhon\"\n",
    "\n",
    "events=graph.stream(\n",
    "     {\"messages\": [(\"user\", user_input)]},stream_mode=\"values\"\n",
    ")\n",
    "\n",
    "for event in events:\n",
    "  event[\"messages\"][-1].pretty_print()"
   ]
  },
  {
   "cell_type": "code",
   "execution_count": 142,
   "id": "d7b2d6dc-a58d-4c94-9c4d-954e746e7aa6",
   "metadata": {},
   "outputs": [
    {
     "name": "stdout",
     "output_type": "stream",
     "text": [
      "================================\u001b[1m Human Message \u001b[0m=================================\n",
      "\n",
      "what is RLHF.\n",
      "==================================\u001b[1m Ai Message \u001b[0m==================================\n",
      "Tool Calls:\n",
      "  wikipedia (call_x3zw)\n",
      " Call ID: call_x3zw\n",
      "  Args:\n",
      "    query: RLHF\n",
      "=================================\u001b[1m Tool Message \u001b[0m=================================\n",
      "Name: wikipedia\n",
      "\n",
      "Page: Reinforcement learning from human feedback\n",
      "Summary: In machine learning, reinforcement learning from human feedback (RLHF) is a technique to align an agent with human preferences. It involves training a reward model to represent preferences previously gathered from a sample of humans, which ca\n",
      "==================================\u001b[1m Ai Message \u001b[0m==================================\n",
      "\n",
      "Reinforcement learning from human feedback (RLHF) is a technique to align an agent with human preferences. It involves training a reward model to represent preferences previously gathered from a sample of humans.\n"
     ]
    }
   ],
   "source": [
    "user_input = \"what is RLHF.\"\n",
    "\n",
    "# The config is the **second positional argument** to stream() or invoke()!\n",
    "events = graph.stream(\n",
    "    {\"messages\": [(\"user\", user_input)]},stream_mode=\"values\"\n",
    ")\n",
    "for event in events:\n",
    "    event[\"messages\"][-1].pretty_print()"
   ]
  }
 ],
 "metadata": {
  "kernelspec": {
   "display_name": "Python 3 (ipykernel)",
   "language": "python",
   "name": "python3"
  },
  "language_info": {
   "codemirror_mode": {
    "name": "ipython",
    "version": 3
   },
   "file_extension": ".py",
   "mimetype": "text/x-python",
   "name": "python",
   "nbconvert_exporter": "python",
   "pygments_lexer": "ipython3",
   "version": "3.12.4"
  }
 },
 "nbformat": 4,
 "nbformat_minor": 5
}
