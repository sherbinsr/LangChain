{
 "cells": [
  {
   "cell_type": "markdown",
   "id": "204495db-ce00-4532-bc24-049871b50b7d",
   "metadata": {},
   "source": [
    "# Agent from Scratch"
   ]
  },
  {
   "cell_type": "code",
   "execution_count": 11,
   "id": "854eb76f-6080-40e5-b640-e216b1978e49",
   "metadata": {},
   "outputs": [],
   "source": [
    "import openai\n",
    "import re\n",
    "import httpx\n",
    "import os\n",
    "from openai import OpenAI"
   ]
  },
  {
   "cell_type": "code",
   "execution_count": null,
   "id": "6faaa644-73bb-41c8-ac8a-680bb07e7c29",
   "metadata": {},
   "outputs": [],
   "source": [
    "\n",
    "# Load environment variables from .env file\n",
    "load_dotenv()\n",
    "\n",
    "# Get the API key from environment variables\n",
    "openai_key = os.getenv('API_KEY')\n",
    "os.environ[\"OPENAI_API_KEY\"]= openai_key\n",
    "import warnings\n",
    "warnings.filterwarnings('ignore')"
   ]
  },
  {
   "cell_type": "code",
   "execution_count": null,
   "id": "505cb1cb-8bc4-4887-b4db-6319096ed7fa",
   "metadata": {},
   "outputs": [],
   "source": [
    "client = OpenAI()"
   ]
  },
  {
   "cell_type": "code",
   "execution_count": null,
   "id": "560572ca-bda8-40c2-a0ca-716ed37c809c",
   "metadata": {},
   "outputs": [],
   "source": [
    "chat_completion = client.chat.completions.create(\n",
    "    model=\"gpt-3.5-turbo\",\n",
    "    messages=[{\"role\": \"user\", \"content\": \"Hello world\"}]\n",
    ")"
   ]
  },
  {
   "cell_type": "markdown",
   "id": "393d130d-386f-4adb-8e96-8586386d32cf",
   "metadata": {},
   "source": [
    "## Define own agent"
   ]
  },
  {
   "cell_type": "code",
   "execution_count": null,
   "id": "8453615f-3f43-4ae3-a609-1dc904bc6da1",
   "metadata": {},
   "outputs": [],
   "source": [
    "class Agent:\n",
    "    def __init__(self, system=\"\"):\n",
    "        self.system = system\n",
    "        self.messages = []\n",
    "        if self.system:\n",
    "            self.messages.append({\"role\": \"system\", \"content\": system})\n",
    "\n",
    "    def __call__(self, message):\n",
    "        self.messages.append({\"role\": \"user\", \"content\": message})\n",
    "        result = self.execute()\n",
    "        self.messages.append({\"role\": \"assistant\", \"content\": result})\n",
    "        return result\n",
    "\n",
    "    def execute(self):\n",
    "        completion = client.chat.completions.create(\n",
    "                        model=\"gpt-4o\", \n",
    "                        temperature=0,\n",
    "                        messages=self.messages)\n",
    "        return completion.choices[0].message.content\n",
    "    "
   ]
  },
  {
   "cell_type": "markdown",
   "id": "05a44786-16f4-4bd8-af8f-92e7dec907c9",
   "metadata": {},
   "source": [
    "## prompt"
   ]
  },
  {
   "cell_type": "code",
   "execution_count": null,
   "id": "993caaec-1412-4a38-bca7-cfcf8aa28d83",
   "metadata": {},
   "outputs": [],
   "source": [
    "prompt = \"\"\"\n",
    "You run in a loop of Thought, Action, PAUSE, Observation.\n",
    "At the end of the loop you output an Answer\n",
    "Use Thought to describe your thoughts about the question you have been asked.\n",
    "Use Action to run one of the actions available to you - then return PAUSE.\n",
    "Observation will be the result of running those actions.\n",
    "\n",
    "Your available actions are:\n",
    "\n",
    "calculate:\n",
    "e.g. calculate: 4 * 7 / 3\n",
    "Runs a calculation and returns the number - uses Python so be sure to use floating point syntax if necessary\n",
    "\n",
    "average_dog_weight:\n",
    "e.g. average_dog_weight: Collie\n",
    "returns average weight of a dog when given the breed\n",
    "\n",
    "Example session:\n",
    "\n",
    "Question: How much does a Bulldog weigh?\n",
    "Thought: I should look the dogs weight using average_dog_weight\n",
    "Action: average_dog_weight: Bulldog\n",
    "PAUSE\n",
    "\n",
    "You will be called again with this:\n",
    "\n",
    "Observation: A Bulldog weights 51 lbs\n",
    "\n",
    "You then output:\n",
    "\n",
    "Answer: A bulldog weights 51 lbs\n",
    "\"\"\".strip()"
   ]
  },
  {
   "cell_type": "markdown",
   "id": "81df1773-9486-40e9-8666-f8fa187ff87f",
   "metadata": {},
   "source": [
    "## Functional requirement for the above prompt  to calculate dogs weight"
   ]
  },
  {
   "cell_type": "code",
   "execution_count": null,
   "id": "0a918847-ac26-48b5-8268-0db62ce50890",
   "metadata": {},
   "outputs": [],
   "source": [
    "def calculate(what):\n",
    "    return eval(what)\n",
    "\n",
    "def average_dog_weight(name):\n",
    "    if name in \"Scottish Terrier\": \n",
    "        return(\"Scottish Terriers average 20 lbs\")\n",
    "    elif name in \"Border Collie\":\n",
    "        return(\"a Border Collies average weight is 37 lbs\")\n",
    "    elif name in \"Toy Poodle\":\n",
    "        return(\"a toy poodles average weight is 7 lbs\")\n",
    "    else:\n",
    "        return(\"An average dog weights 50 lbs\")\n",
    "\n",
    "known_actions = {\n",
    "    \"calculate\": calculate,\n",
    "    \"average_dog_weight\": average_dog_weight\n",
    "}"
   ]
  },
  {
   "cell_type": "markdown",
   "id": "a6d1c89c-7e18-4b6d-b652-775a32c07d73",
   "metadata": {},
   "source": [
    "## Intialize agent"
   ]
  },
  {
   "cell_type": "code",
   "execution_count": null,
   "id": "982ca4b4-968c-46cb-9c0f-47f212169639",
   "metadata": {},
   "outputs": [],
   "source": [
    "abot = Agent(prompt)"
   ]
  },
  {
   "cell_type": "code",
   "execution_count": null,
   "id": "c3e0d0ef-0f1c-4ad6-8c00-a9e0908ea5e2",
   "metadata": {},
   "outputs": [],
   "source": [
    "abot = Agent(prompt)"
   ]
  },
  {
   "cell_type": "code",
   "execution_count": null,
   "id": "2dc69918-c10f-4cc4-ac27-68e6c975945c",
   "metadata": {},
   "outputs": [],
   "source": [
    "result = abot(\"How much does a toy poodle weigh?\")\n",
    "print(result)ac"
   ]
  },
  {
   "cell_type": "code",
   "execution_count": null,
   "id": "b1c92335-feec-4428-98a9-b16dbf8786b7",
   "metadata": {},
   "outputs": [],
   "source": [
    "result = average_dog_weight(\"Toy Poodle\")"
   ]
  },
  {
   "cell_type": "code",
   "execution_count": null,
   "id": "8586dc71-e119-44d4-8cca-db87a2a258d4",
   "metadata": {},
   "outputs": [],
   "source": [
    "next_prompt = \"Observation: {}\".format(result)"
   ]
  },
  {
   "cell_type": "code",
   "execution_count": null,
   "id": "dcdc8a6e-c281-4e24-8004-ca40cdb0dd54",
   "metadata": {},
   "outputs": [],
   "source": [
    "abot.messages"
   ]
  },
  {
   "cell_type": "markdown",
   "id": "3bc4cbe4-0b21-46d9-a615-4e8c67657d80",
   "metadata": {},
   "source": [
    "## Wokring with some complex questions"
   ]
  },
  {
   "cell_type": "code",
   "execution_count": null,
   "id": "2fc33541-575f-4c6d-ae82-7d50edb99846",
   "metadata": {},
   "outputs": [],
   "source": [
    "question = \"\"\"I have 2 dogs, a border collie and a scottish terrier. \\\n",
    "What is their combined weight\"\"\"\n",
    "abot(question)"
   ]
  },
  {
   "cell_type": "code",
   "execution_count": null,
   "id": "176d36d5-7e59-4966-b0a2-2edd8930f90b",
   "metadata": {},
   "outputs": [],
   "source": [
    "next_prompt = \"Observation: {}\".format(average_dog_weight(\"Border Collie\"))\n",
    "print(next_prompt)"
   ]
  },
  {
   "cell_type": "code",
   "execution_count": null,
   "id": "3995d6f2-dc7d-4fe7-90c2-5371a0aa87ec",
   "metadata": {},
   "outputs": [],
   "source": [
    "abot(next_prompt)"
   ]
  },
  {
   "cell_type": "code",
   "execution_count": null,
   "id": "21638723-0caa-47a9-9cdd-06c744012203",
   "metadata": {},
   "outputs": [],
   "source": [
    "next_prompt = \"Observation: {}\".format(average_dog_weight(\"Scottish Terrier\"))\n",
    "print(next_prompt)"
   ]
  },
  {
   "cell_type": "code",
   "execution_count": null,
   "id": "f05dd4e0-a95c-4642-8b0b-0503b6a54a0d",
   "metadata": {},
   "outputs": [],
   "source": [
    "abot(next_prompt)"
   ]
  },
  {
   "cell_type": "code",
   "execution_count": null,
   "id": "550cc33f-2923-4ef8-b4e5-a212929274cc",
   "metadata": {},
   "outputs": [],
   "source": [
    "next_prompt = \"Observation: {}\".format(eval(\"37 + 20\"))\n",
    "print(next_prompt)"
   ]
  },
  {
   "cell_type": "code",
   "execution_count": null,
   "id": "01e05aee-4fbc-4235-9601-b4949854b0fe",
   "metadata": {},
   "outputs": [],
   "source": [
    "abot(next_prompt)"
   ]
  },
  {
   "cell_type": "code",
   "execution_count": null,
   "id": "95784ff2-8415-465b-85c4-ad14e9ae1ce6",
   "metadata": {},
   "outputs": [],
   "source": [
    "abot.messages"
   ]
  },
  {
   "cell_type": "markdown",
   "id": "5a0f7014-5845-450a-b55c-41e0d3620066",
   "metadata": {},
   "source": [
    "## Automate the above manual process by adding a loop"
   ]
  },
  {
   "cell_type": "code",
   "execution_count": null,
   "id": "54209bcf-41ab-4ca3-b63b-d3a1cb372439",
   "metadata": {},
   "outputs": [],
   "source": [
    "# Regex function\n",
    "action_re = re.compile('^Action: (\\w+): (.*)$')   # python regular expression to selection action"
   ]
  },
  {
   "cell_type": "code",
   "execution_count": null,
   "id": "1789c1ca-4c3a-44f9-89a2-099ad5605ed4",
   "metadata": {},
   "outputs": [],
   "source": [
    "def query(question, max_turns=5):\n",
    "    i = 0\n",
    "    bot = Agent(prompt)\n",
    "    next_prompt = question\n",
    "    while i < max_turns:\n",
    "        i += 1\n",
    "        result = bot(next_prompt)\n",
    "        print(result)\n",
    "        actions = [\n",
    "            action_re.match(a) \n",
    "            for a in result.split('\\n') \n",
    "            if action_re.match(a)\n",
    "        ]\n",
    "        if actions:\n",
    "            # There is an action to run\n",
    "            action, action_input = actions[0].groups()\n",
    "            if action not in known_actions:\n",
    "                raise Exception(\"Unknown action: {}: {}\".format(action, action_input))\n",
    "            print(\" -- running {} {}\".format(action, action_input))\n",
    "            observation = known_actions[action](action_input)\n",
    "            print(\"Observation:\", observation)\n",
    "            next_prompt = \"Observation: {}\".format(observation)\n",
    "        else:\n",
    "            return"
   ]
  },
  {
   "cell_type": "code",
   "execution_count": null,
   "id": "6479e4a6-2992-4561-b92b-49f3953c6703",
   "metadata": {},
   "outputs": [],
   "source": [
    "question = \"\"\"I have 2 dogs, a border collie and a scottish terrier. \\\n",
    "What is their combined weight\"\"\""
   ]
  },
  {
   "cell_type": "code",
   "execution_count": null,
   "id": "a22759dc-b702-4570-bd1a-d6e90e586493",
   "metadata": {},
   "outputs": [],
   "source": [
    "query(question)"
   ]
  }
 ],
 "metadata": {
  "kernelspec": {
   "display_name": "Python 3 (ipykernel)",
   "language": "python",
   "name": "python3"
  },
  "language_info": {
   "codemirror_mode": {
    "name": "ipython",
    "version": 3
   },
   "file_extension": ".py",
   "mimetype": "text/x-python",
   "name": "python",
   "nbconvert_exporter": "python",
   "pygments_lexer": "ipython3",
   "version": "3.12.4"
  }
 },
 "nbformat": 4,
 "nbformat_minor": 5
}
