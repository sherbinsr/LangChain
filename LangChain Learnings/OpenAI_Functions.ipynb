{
 "cells": [
  {
   "cell_type": "markdown",
   "id": "61137cdd-17f9-4acd-b036-648fb68644d8",
   "metadata": {},
   "source": [
    "# OpenAIFunction"
   ]
  },
  {
   "cell_type": "code",
   "execution_count": 2,
   "id": "0b61ba26-2459-4644-97c0-37dc3a24edbb",
   "metadata": {},
   "outputs": [],
   "source": [
    "import os\n",
    "from dotenv import load_dotenv\n",
    "\n",
    "# Load environment variables from .env file\n",
    "load_dotenv()\n",
    "\n",
    "# Get the API key from environment variables\n",
    "openai_key = os.getenv('API_KEY')\n",
    "os.environ[\"OPENAI_API_KEY\"]= openai_key\n",
    "import warnings\n",
    "warnings.filterwarnings('ignore')"
   ]
  },
  {
   "cell_type": "markdown",
   "id": "e8a77beb-68c9-4c21-aadd-c46b6c6a43ae",
   "metadata": {},
   "source": [
    "## Example dummy function hard coded to return the same weather"
   ]
  },
  {
   "cell_type": "code",
   "execution_count": null,
   "id": "6ff67254-b7a2-4b85-8108-9f4a4b94d2cf",
   "metadata": {},
   "outputs": [],
   "source": [
    "import json\n",
    "\n",
    "\n",
    "def get_current_weather(location, unit=\"fahrenheit\"):\n",
    "    \"\"\"Get the current weather in a given location\"\"\"\n",
    "    weather_info = {\n",
    "        \"location\": location,\n",
    "        \"temperature\": \"72\",\n",
    "        \"unit\": unit,\n",
    "        \"forecast\": [\"sunny\", \"windy\"],\n",
    "    }\n",
    "    return json.dumps(weather_info)"
   ]
  },
  {
   "cell_type": "code",
   "execution_count": null,
   "id": "f975d18f-9757-4ec9-b5ae-e3090d86255a",
   "metadata": {},
   "outputs": [],
   "source": [
    "# define a function ,it must be in this format\n",
    "functions = [\n",
    "    {\n",
    "        \"name\": \"get_current_weather\",\n",
    "        \"description\": \"Get the current weather in a given location\",\n",
    "        \"parameters\": {\n",
    "            \"type\": \"object\",\n",
    "            \"properties\": {\n",
    "                \"location\": {\n",
    "                    \"type\": \"string\",\n",
    "                    \"description\": \"The city and state, e.g. San Francisco, CA\",\n",
    "                },\n",
    "                \"unit\": {\"type\": \"string\", \"enum\": [\"celsius\", \"fahrenheit\"]},\n",
    "            },\n",
    "            \"required\": [\"location\"],\n",
    "        },\n",
    "    }\n",
    "]"
   ]
  },
  {
   "cell_type": "code",
   "execution_count": 4,
   "id": "cd78bf93-2368-4dc4-bce9-53ce97c0d723",
   "metadata": {},
   "outputs": [],
   "source": [
    "# sample message\n",
    "messages = [\n",
    "    {\n",
    "        \"role\": \"user\",\n",
    "        \"content\": \"What's the weather like in Boston?\"\n",
    "    }\n",
    "]"
   ]
  },
  {
   "cell_type": "code",
   "execution_count": 6,
   "id": "5abbe23f-f558-47a8-b09c-d2d07870819b",
   "metadata": {},
   "outputs": [],
   "source": [
    "import openai"
   ]
  },
  {
   "cell_type": "code",
   "execution_count": null,
   "id": "17f6b3ac-770e-437d-adc6-439ec0abbaef",
   "metadata": {},
   "outputs": [],
   "source": [
    "response = openai.ChatCompletion.create(\n",
    "    model=\"gpt-3.5-turbo-0613\",\n",
    "    messages=messages,\n",
    "    functions=functions\n",
    ")"
   ]
  },
  {
   "cell_type": "code",
   "execution_count": null,
   "id": "6d16607c-de7e-4bed-9f2c-6f8472b6d311",
   "metadata": {},
   "outputs": [],
   "source": [
    "print(response)"
   ]
  },
  {
   "cell_type": "code",
   "execution_count": null,
   "id": "9f10bac1-c988-4689-bd24-68323db610e6",
   "metadata": {},
   "outputs": [],
   "source": [
    "# the function in openai doesn't call directly so in this case use json loads\n",
    "json.loads(response_message[\"function_call\"][\"arguments\"])"
   ]
  },
  {
   "cell_type": "code",
   "execution_count": null,
   "id": "10ac864b-baa8-4390-9b14-906918aca254",
   "metadata": {},
   "outputs": [],
   "source": [
    "get_current_weather(args)"
   ]
  },
  {
   "cell_type": "markdown",
   "id": "f862d68e-3916-477f-95ba-2d6dfa649aef",
   "metadata": {},
   "source": [
    "## Testing Function with not relevant input"
   ]
  },
  {
   "cell_type": "code",
   "execution_count": 10,
   "id": "fb949e28-8a60-4bf6-a452-f07e65f72e38",
   "metadata": {},
   "outputs": [],
   "source": [
    "messages = [\n",
    "    {\n",
    "        \"role\": \"user\",\n",
    "        \"content\": \"hi!\",\n",
    "    }\n",
    "]"
   ]
  },
  {
   "cell_type": "code",
   "execution_count": null,
   "id": "cb3ce2e0-5510-4e19-b8b2-ca9b5b03ac4a",
   "metadata": {},
   "outputs": [],
   "source": [
    "response = openai.ChatCompletion.create(\n",
    "    model=\"gpt-3.5-turbo-0613\",\n",
    "    messages=messages,\n",
    "    functions=functions,\n",
    "    function_call=\"auto\",\n",
    ")"
   ]
  },
  {
   "cell_type": "code",
   "execution_count": null,
   "id": "455bbd9d-05ca-4544-a1ed-113a7e3d02cd",
   "metadata": {},
   "outputs": [],
   "source": [
    "print(response)"
   ]
  },
  {
   "cell_type": "markdown",
   "id": "ceedc788-f610-414b-a921-9f83f6703d92",
   "metadata": {},
   "source": [
    "## Function Call is null when the data is not relevant"
   ]
  },
  {
   "cell_type": "code",
   "execution_count": null,
   "id": "0087f336-6656-4f95-8189-42753f2d5ce6",
   "metadata": {},
   "outputs": [],
   "source": [
    "messages = [\n",
    "    {\n",
    "        \"role\": \"user\",\n",
    "        \"content\": \"What's the weather in Boston?\",\n",
    "    }\n",
    "]\n",
    "response = openai.ChatCompletion.create(\n",
    "    model=\"gpt-3.5-turbo-0613\",\n",
    "    messages=messages,\n",
    "    functions=functions,\n",
    "    function_call=\"none\",\n",
    ")\n",
    "print(response)"
   ]
  },
  {
   "cell_type": "markdown",
   "id": "d2d6c48e-6254-4ba3-b845-08674f4d4393",
   "metadata": {},
   "source": [
    "## Forced function Call"
   ]
  },
  {
   "cell_type": "code",
   "execution_count": null,
   "id": "6aea0762-11bc-4e1c-97eb-6b9d73bcf827",
   "metadata": {},
   "outputs": [],
   "source": [
    "messages = [\n",
    "    {\n",
    "        \"role\": \"user\",\n",
    "        \"content\": \"hi!\",\n",
    "    }\n",
    "]\n",
    "response = openai.ChatCompletion.create(\n",
    "    model=\"gpt-3.5-turbo-0613\",\n",
    "    messages=messages,\n",
    "    functions=functions,\n",
    "    function_call={\"name\": \"get_current_weather\"},\n",
    ")\n",
    "print(response)"
   ]
  }
 ],
 "metadata": {
  "kernelspec": {
   "display_name": "Python 3 (ipykernel)",
   "language": "python",
   "name": "python3"
  },
  "language_info": {
   "codemirror_mode": {
    "name": "ipython",
    "version": 3
   },
   "file_extension": ".py",
   "mimetype": "text/x-python",
   "name": "python",
   "nbconvert_exporter": "python",
   "pygments_lexer": "ipython3",
   "version": "3.12.4"
  }
 },
 "nbformat": 4,
 "nbformat_minor": 5
}
