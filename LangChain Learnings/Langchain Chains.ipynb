{
 "cells": [
  {
   "cell_type": "markdown",
   "id": "1a6b640b-6f61-4087-92fa-ccd56811ba56",
   "metadata": {},
   "source": [
    "# Chains"
   ]
  },
  {
   "cell_type": "code",
   "execution_count": 2,
   "id": "8c4e600d-37e1-43cb-b158-87c8533232d2",
   "metadata": {},
   "outputs": [],
   "source": [
    "import os\n",
    "from dotenv import load_dotenv\n",
    "\n",
    "# Load environment variables from .env file\n",
    "load_dotenv()\n",
    "\n",
    "# Get the API key from environment variables\n",
    "openai_key = os.getenv('API_KEY')\n",
    "os.environ[\"OPENAI_API_KEY\"]= openai_key\n",
    "import warnings\n",
    "warnings.filterwarnings('ignore')"
   ]
  },
  {
   "cell_type": "code",
   "execution_count": 4,
   "id": "2627b7f7-0d26-4144-9ae7-fc55018db375",
   "metadata": {},
   "outputs": [],
   "source": [
    "import pandas as pd\n",
    "df = pd.read_csv('Data.csv')"
   ]
  },
  {
   "cell_type": "code",
   "execution_count": 6,
   "id": "c934975c-14af-4f05-be1c-aef9cf61e3ef",
   "metadata": {},
   "outputs": [
    {
     "data": {
      "text/html": [
       "<div>\n",
       "<style scoped>\n",
       "    .dataframe tbody tr th:only-of-type {\n",
       "        vertical-align: middle;\n",
       "    }\n",
       "\n",
       "    .dataframe tbody tr th {\n",
       "        vertical-align: top;\n",
       "    }\n",
       "\n",
       "    .dataframe thead th {\n",
       "        text-align: right;\n",
       "    }\n",
       "</style>\n",
       "<table border=\"1\" class=\"dataframe\">\n",
       "  <thead>\n",
       "    <tr style=\"text-align: right;\">\n",
       "      <th></th>\n",
       "      <th>Unnamed: 0</th>\n",
       "      <th>ProductUrl</th>\n",
       "      <th>productTitle</th>\n",
       "      <th>productPrice</th>\n",
       "      <th>averageRating</th>\n",
       "      <th>reviewTitle</th>\n",
       "      <th>reviewDescription</th>\n",
       "      <th>reviewAuthor</th>\n",
       "      <th>reviewAt</th>\n",
       "      <th>reviewLikes</th>\n",
       "      <th>reviewDislikes</th>\n",
       "      <th>certifiedBuyer</th>\n",
       "      <th>reviewerLocation</th>\n",
       "      <th>scrapedAt</th>\n",
       "      <th>uniqId</th>\n",
       "    </tr>\n",
       "  </thead>\n",
       "  <tbody>\n",
       "    <tr>\n",
       "      <th>0</th>\n",
       "      <td>0</td>\n",
       "      <td>https://www.flipkart.com/lg-108-cm-43-inch-ult...</td>\n",
       "      <td>LG 108 cm (43 inch) Ultra HD (4K) LED Smart TV</td>\n",
       "      <td>₹36,499</td>\n",
       "      <td>4.4</td>\n",
       "      <td>Excellent</td>\n",
       "      <td>Very good product</td>\n",
       "      <td>palakollu  komali</td>\n",
       "      <td>6 months ago</td>\n",
       "      <td>0</td>\n",
       "      <td>1</td>\n",
       "      <td>True</td>\n",
       "      <td>Tenali</td>\n",
       "      <td>20/02/2022 02:03:42</td>\n",
       "      <td>4e9df8d3-736c-5dae-b867-b92b7f09fc84</td>\n",
       "    </tr>\n",
       "    <tr>\n",
       "      <th>1</th>\n",
       "      <td>1</td>\n",
       "      <td>https://www.flipkart.com/lg-108-cm-43-inch-ult...</td>\n",
       "      <td>LG 108 cm (43 inch) Ultra HD (4K) LED Smart TV</td>\n",
       "      <td>₹36,499</td>\n",
       "      <td>4.4</td>\n",
       "      <td>Really Nice</td>\n",
       "      <td>Nice and super picture quality.and sound also ...</td>\n",
       "      <td>Yogesh  Virkar</td>\n",
       "      <td>3 months ago</td>\n",
       "      <td>0</td>\n",
       "      <td>0</td>\n",
       "      <td>True</td>\n",
       "      <td>Mumbai</td>\n",
       "      <td>20/02/2022 02:03:42</td>\n",
       "      <td>7ba04258-9f05-5642-ba33-8982db1f6c5e</td>\n",
       "    </tr>\n",
       "    <tr>\n",
       "      <th>2</th>\n",
       "      <td>2</td>\n",
       "      <td>https://www.flipkart.com/lg-108-cm-43-inch-ult...</td>\n",
       "      <td>LG 108 cm (43 inch) Ultra HD (4K) LED Smart TV</td>\n",
       "      <td>₹36,499</td>\n",
       "      <td>4.4</td>\n",
       "      <td>Super!</td>\n",
       "      <td>This is excellent picture qualityUltimate soun...</td>\n",
       "      <td>Sudhir Kumar Chaudhary</td>\n",
       "      <td>3 months ago</td>\n",
       "      <td>0</td>\n",
       "      <td>0</td>\n",
       "      <td>True</td>\n",
       "      <td>Haridwar</td>\n",
       "      <td>20/02/2022 02:03:42</td>\n",
       "      <td>bfb20e97-eacf-5b76-a5eb-91999d6bd7a3</td>\n",
       "    </tr>\n",
       "    <tr>\n",
       "      <th>3</th>\n",
       "      <td>3</td>\n",
       "      <td>https://www.flipkart.com/lg-108-cm-43-inch-ult...</td>\n",
       "      <td>LG 108 cm (43 inch) Ultra HD (4K) LED Smart TV</td>\n",
       "      <td>₹36,499</td>\n",
       "      <td>4.4</td>\n",
       "      <td>Just wow!</td>\n",
       "      <td>Nice</td>\n",
       "      <td>Flipkart Customer</td>\n",
       "      <td>3 months ago</td>\n",
       "      <td>0</td>\n",
       "      <td>0</td>\n",
       "      <td>True</td>\n",
       "      <td>Allahabad</td>\n",
       "      <td>20/02/2022 02:03:42</td>\n",
       "      <td>b659523f-96e2-50da-a1c0-13a65f410b6a</td>\n",
       "    </tr>\n",
       "    <tr>\n",
       "      <th>4</th>\n",
       "      <td>5</td>\n",
       "      <td>https://www.flipkart.com/lg-108-cm-43-inch-ult...</td>\n",
       "      <td>LG 108 cm (43 inch) Ultra HD (4K) LED Smart TV</td>\n",
       "      <td>₹36,499</td>\n",
       "      <td>4.4</td>\n",
       "      <td>Highly recommended</td>\n",
       "      <td>Don't go with the negative reviews. Just go fo...</td>\n",
       "      <td>Ashok Mandial</td>\n",
       "      <td>3 months ago</td>\n",
       "      <td>0</td>\n",
       "      <td>0</td>\n",
       "      <td>True</td>\n",
       "      <td>Hamirpur District</td>\n",
       "      <td>20/02/2022 02:03:42</td>\n",
       "      <td>4876ae1b-4c7a-52a0-b5e0-dcf88efd1289</td>\n",
       "    </tr>\n",
       "  </tbody>\n",
       "</table>\n",
       "</div>"
      ],
      "text/plain": [
       "   Unnamed: 0                                         ProductUrl  \\\n",
       "0           0  https://www.flipkart.com/lg-108-cm-43-inch-ult...   \n",
       "1           1  https://www.flipkart.com/lg-108-cm-43-inch-ult...   \n",
       "2           2  https://www.flipkart.com/lg-108-cm-43-inch-ult...   \n",
       "3           3  https://www.flipkart.com/lg-108-cm-43-inch-ult...   \n",
       "4           5  https://www.flipkart.com/lg-108-cm-43-inch-ult...   \n",
       "\n",
       "                                     productTitle productPrice  averageRating  \\\n",
       "0  LG 108 cm (43 inch) Ultra HD (4K) LED Smart TV      ₹36,499            4.4   \n",
       "1  LG 108 cm (43 inch) Ultra HD (4K) LED Smart TV      ₹36,499            4.4   \n",
       "2  LG 108 cm (43 inch) Ultra HD (4K) LED Smart TV      ₹36,499            4.4   \n",
       "3  LG 108 cm (43 inch) Ultra HD (4K) LED Smart TV      ₹36,499            4.4   \n",
       "4  LG 108 cm (43 inch) Ultra HD (4K) LED Smart TV      ₹36,499            4.4   \n",
       "\n",
       "          reviewTitle                                  reviewDescription  \\\n",
       "0           Excellent                                  Very good product   \n",
       "1         Really Nice  Nice and super picture quality.and sound also ...   \n",
       "2              Super!  This is excellent picture qualityUltimate soun...   \n",
       "3           Just wow!                                               Nice   \n",
       "4  Highly recommended  Don't go with the negative reviews. Just go fo...   \n",
       "\n",
       "             reviewAuthor      reviewAt  reviewLikes  reviewDislikes  \\\n",
       "0       palakollu  komali  6 months ago            0               1   \n",
       "1          Yogesh  Virkar  3 months ago            0               0   \n",
       "2  Sudhir Kumar Chaudhary  3 months ago            0               0   \n",
       "3       Flipkart Customer  3 months ago            0               0   \n",
       "4           Ashok Mandial  3 months ago            0               0   \n",
       "\n",
       "   certifiedBuyer    reviewerLocation            scrapedAt  \\\n",
       "0            True              Tenali  20/02/2022 02:03:42   \n",
       "1            True              Mumbai  20/02/2022 02:03:42   \n",
       "2            True            Haridwar  20/02/2022 02:03:42   \n",
       "3            True           Allahabad  20/02/2022 02:03:42   \n",
       "4            True   Hamirpur District  20/02/2022 02:03:42   \n",
       "\n",
       "                                 uniqId  \n",
       "0  4e9df8d3-736c-5dae-b867-b92b7f09fc84  \n",
       "1  7ba04258-9f05-5642-ba33-8982db1f6c5e  \n",
       "2  bfb20e97-eacf-5b76-a5eb-91999d6bd7a3  \n",
       "3  b659523f-96e2-50da-a1c0-13a65f410b6a  \n",
       "4  4876ae1b-4c7a-52a0-b5e0-dcf88efd1289  "
      ]
     },
     "execution_count": 6,
     "metadata": {},
     "output_type": "execute_result"
    }
   ],
   "source": [
    "df.head()"
   ]
  },
  {
   "cell_type": "markdown",
   "id": "141c5483-129d-4798-9a07-30ede8ab65d7",
   "metadata": {},
   "source": [
    "## LLMChain"
   ]
  },
  {
   "cell_type": "code",
   "execution_count": 9,
   "id": "f9ee4ac9-5f8e-4c4b-9a31-0118f4168361",
   "metadata": {},
   "outputs": [],
   "source": [
    "from langchain.chat_models import ChatOpenAI\n",
    "from langchain.prompts import ChatPromptTemplate\n",
    "from langchain.chains import LLMChain"
   ]
  },
  {
   "cell_type": "code",
   "execution_count": null,
   "id": "c97c6281-61e3-4585-ac6f-921f7f9af176",
   "metadata": {},
   "outputs": [],
   "source": [
    "llm = ChatOpenAI(temperature=0.9, model=llm_model)"
   ]
  },
  {
   "cell_type": "code",
   "execution_count": 11,
   "id": "c3cc429c-72b0-4ce9-9f3a-20f65dda3dc9",
   "metadata": {},
   "outputs": [],
   "source": [
    "prompt = ChatPromptTemplate.from_template(\n",
    "    \"What is the best name to describe \\\n",
    "    a company that makes {productTitle}?\"\n",
    ")"
   ]
  },
  {
   "cell_type": "code",
   "execution_count": null,
   "id": "f5aaec0f-89f4-4d9d-a4f5-52fff2f35a4b",
   "metadata": {},
   "outputs": [],
   "source": [
    "chain = LLMChain(llm=llm, prompt=prompt)"
   ]
  },
  {
   "cell_type": "code",
   "execution_count": null,
   "id": "02eafc53-9ce6-47fe-9a54-d60dec9e2e87",
   "metadata": {},
   "outputs": [],
   "source": [
    "product = \"LG 108 cm (43 inch) Ultra HD (4K) LED Smart TV\"\n",
    "chain.run(product)"
   ]
  },
  {
   "cell_type": "markdown",
   "id": "d793f320-21fd-49dc-8418-a14c35d67578",
   "metadata": {},
   "source": [
    "# Types of Chains"
   ]
  },
  {
   "cell_type": "markdown",
   "id": "00af2421-ab6e-4676-b3ba-ea26495590c7",
   "metadata": {},
   "source": [
    "## SimpleSequentialChain"
   ]
  },
  {
   "cell_type": "code",
   "execution_count": 25,
   "id": "9a1408b9-2868-450e-b1c8-87365537d97b",
   "metadata": {},
   "outputs": [],
   "source": [
    "from langchain.chains import SimpleSequentialChain"
   ]
  },
  {
   "cell_type": "code",
   "execution_count": null,
   "id": "2c985798-e656-481f-ad46-62e109bd7c6a",
   "metadata": {},
   "outputs": [],
   "source": [
    "llm = ChatOpenAI(temperature=0.9, model=llm_model)\n",
    "\n",
    "# prompt template 1\n",
    "first_prompt = ChatPromptTemplate.from_template(\n",
    "    \"What is the best name to describe \\\n",
    "    a company that makes {product}?\"\n",
    ")\n",
    "\n",
    "# Chain 1\n",
    "chain_one = LLMChain(llm=llm, prompt=first_prompt)"
   ]
  },
  {
   "cell_type": "code",
   "execution_count": null,
   "id": "7ad1fc21-b4d8-49c5-a444-99eb007c0390",
   "metadata": {},
   "outputs": [],
   "source": [
    "# prompt template 2\n",
    "second_prompt = ChatPromptTemplate.from_template(\n",
    "    \"Write a 20 words description for the following \\\n",
    "    company:{company_name}\"\n",
    ")\n",
    "# chain 2\n",
    "chain_two = LLMChain(llm=llm, prompt=second_prompt)"
   ]
  },
  {
   "cell_type": "code",
   "execution_count": null,
   "id": "c8c0f68f-368c-40ff-93e9-796f685a9fe5",
   "metadata": {},
   "outputs": [],
   "source": [
    "overall_simple_chain = SimpleSequentialChain(chains=[chain_one, chain_two],\n",
    "                                             verbose=True\n",
    "                                            )"
   ]
  },
  {
   "cell_type": "code",
   "execution_count": null,
   "id": "475df810-1969-4e41-9735-220440413f32",
   "metadata": {},
   "outputs": [],
   "source": [
    "overall_simple_chain.run(product)"
   ]
  },
  {
   "cell_type": "markdown",
   "id": "f1179776-87b5-4eea-9e0c-836415dbe14e",
   "metadata": {},
   "source": [
    "## SequentialChain"
   ]
  },
  {
   "cell_type": "code",
   "execution_count": 40,
   "id": "4c4a0ae4-24c2-4209-ad76-202c2d656b67",
   "metadata": {},
   "outputs": [],
   "source": [
    "from langchain.chains import SequentialChain"
   ]
  },
  {
   "cell_type": "code",
   "execution_count": null,
   "id": "8b015a17-3092-4fd6-9ab1-243bed3a4492",
   "metadata": {},
   "outputs": [],
   "source": [
    "llm = ChatOpenAI(temperature=0.9, model=llm_model)\n",
    "\n",
    "# prompt template 1: translate to english\n",
    "first_prompt = ChatPromptTemplate.from_template(\n",
    "    \"Translate the following review to english:\"\n",
    "    \"\\n\\n{reviewDescription}\"\n",
    ")\n",
    "# chain 1: input= Review and output= English_Review\n",
    "chain_one = LLMChain(llm=llm, prompt=first_prompt, \n",
    "                     output_key=\"English_Review\"\n",
    "                    )\n"
   ]
  },
  {
   "cell_type": "code",
   "execution_count": null,
   "id": "e7f19ab2-745a-435b-923a-edcebbb7e09e",
   "metadata": {},
   "outputs": [],
   "source": [
    "second_prompt = ChatPromptTemplate.from_template(\n",
    "    \"Can you summarize the following review in 1 sentence:\"\n",
    "    \"\\n\\n{English_Review}\"\n",
    ")\n",
    "# chain 2: input= English_Review and output= summary\n",
    "chain_two = LLMChain(llm=llm, prompt=second_prompt, \n",
    "                     output_key=\"summary\"\n",
    "                    )\n"
   ]
  },
  {
   "cell_type": "code",
   "execution_count": null,
   "id": "9d0eeeeb-abb0-4923-927b-34b38f4f03a1",
   "metadata": {},
   "outputs": [],
   "source": [
    "# prompt template 3: translate to english\n",
    "third_prompt = ChatPromptTemplate.from_template(\n",
    "    \"What language is the following review:\\n\\n{reviewDescription}\"\n",
    ")\n",
    "# chain 3: input= Review and output= language\n",
    "chain_three = LLMChain(llm=llm, prompt=third_prompt,\n",
    "                       output_key=\"language\"\n",
    "                      )"
   ]
  },
  {
   "cell_type": "code",
   "execution_count": null,
   "id": "d6119c4d-1e50-4213-9d83-694dae7c66be",
   "metadata": {},
   "outputs": [],
   "source": [
    "\n",
    "# prompt template 4: follow up message\n",
    "fourth_prompt = ChatPromptTemplate.from_template(\n",
    "    \"Write a follow up response to the following \"\n",
    "    \"summary in the specified language:\"\n",
    "    \"\\n\\nSummary: {summary}\\n\\nLanguage: {language}\"\n",
    ")\n",
    "# chain 4: input= summary, language and output= followup_message\n",
    "chain_four = LLMChain(llm=llm, prompt=fourth_prompt,\n",
    "                      output_key=\"followup_message\"\n",
    "                     )\n"
   ]
  },
  {
   "cell_type": "code",
   "execution_count": null,
   "id": "d5e50197-6b99-48f2-8468-3003c053c412",
   "metadata": {},
   "outputs": [],
   "source": [
    "# overall_chain: input= Review \n",
    "# and output= English_Review,summary, followup_message\n",
    "overall_chain = SequentialChain(\n",
    "    chains=[chain_one, chain_two, chain_three, chain_four],\n",
    "    input_variables=[\"reviewDescription\"],\n",
    "    output_variables=[\"English_Review\", \"summary\",\"followup_message\"],\n",
    "    verbose=True\n",
    ")"
   ]
  },
  {
   "cell_type": "code",
   "execution_count": null,
   "id": "e7be1ea5-11e2-44a5-a0a1-ef5a5340dfc7",
   "metadata": {},
   "outputs": [],
   "source": [
    "review = df.Review[5]\n",
    "overall_chain(review)"
   ]
  },
  {
   "cell_type": "markdown",
   "id": "0fc2e8ea-1266-4a98-a865-f2ff3bd1c879",
   "metadata": {},
   "source": [
    "## Router Chain"
   ]
  },
  {
   "cell_type": "code",
   "execution_count": 43,
   "id": "09277e15-efd9-4081-a6b3-0195ea259ed7",
   "metadata": {},
   "outputs": [],
   "source": [
    "physics_template = \"\"\"You are a very smart physics professor. \\\n",
    "You are great at answering questions about physics in a concise\\\n",
    "and easy to understand manner. \\\n",
    "When you don't know the answer to a question you admit\\\n",
    "that you don't know.\n",
    "\n",
    "Here is a question:\n",
    "{input}\"\"\"\n",
    "\n",
    "\n",
    "math_template = \"\"\"You are a very good mathematician. \\\n",
    "You are great at answering math questions. \\\n",
    "You are so good because you are able to break down \\\n",
    "hard problems into their component parts, \n",
    "answer the component parts, and then put them together\\\n",
    "to answer the broader question.\n",
    "\n",
    "Here is a question:\n",
    "{input}\"\"\"\n",
    "\n",
    "history_template = \"\"\"You are a very good historian. \\\n",
    "You have an excellent knowledge of and understanding of people,\\\n",
    "events and contexts from a range of historical periods. \\\n",
    "You have the ability to think, reflect, debate, discuss and \\\n",
    "evaluate the past. You have a respect for historical evidence\\\n",
    "and the ability to make use of it to support your explanations \\\n",
    "and judgements.\n",
    "\n",
    "Here is a question:\n",
    "{input}\"\"\"\n",
    "\n",
    "\n",
    "computerscience_template = \"\"\" You are a successful computer scientist.\\\n",
    "You have a passion for creativity, collaboration,\\\n",
    "forward-thinking, confidence, strong problem-solving capabilities,\\\n",
    "understanding of theories and algorithms, and excellent communication \\\n",
    "skills. You are great at answering coding questions. \\\n",
    "You are so good because you know how to solve a problem by \\\n",
    "describing the solution in imperative steps \\\n",
    "that a machine can easily interpret and you know how to \\\n",
    "choose a solution that has a good balance between \\\n",
    "time complexity and space complexity. \n",
    "\n",
    "Here is a question:\n",
    "{input}\"\"\""
   ]
  },
  {
   "cell_type": "code",
   "execution_count": 45,
   "id": "41a75c96-af0a-407e-8d68-c66936f8197e",
   "metadata": {},
   "outputs": [],
   "source": [
    "prompt_infos = [\n",
    "    {\n",
    "        \"name\": \"physics\", \n",
    "        \"description\": \"Good for answering questions about physics\", \n",
    "        \"prompt_template\": physics_template\n",
    "    },\n",
    "    {\n",
    "        \"name\": \"math\", \n",
    "        \"description\": \"Good for answering math questions\", \n",
    "        \"prompt_template\": math_template\n",
    "    },\n",
    "    {\n",
    "        \"name\": \"History\", \n",
    "        \"description\": \"Good for answering history questions\", \n",
    "        \"prompt_template\": history_template\n",
    "    },\n",
    "    {\n",
    "        \"name\": \"computer science\", \n",
    "        \"description\": \"Good for answering computer science questions\", \n",
    "        \"prompt_template\": computerscience_template\n",
    "    }\n",
    "]"
   ]
  },
  {
   "cell_type": "code",
   "execution_count": 47,
   "id": "485c660e-74a0-4cda-a20d-52f3376531b0",
   "metadata": {},
   "outputs": [],
   "source": [
    "from langchain.chains.router import MultiPromptChain\n",
    "from langchain.chains.router.llm_router import LLMRouterChain,RouterOutputParser\n",
    "from langchain.prompts import PromptTemplate"
   ]
  },
  {
   "cell_type": "code",
   "execution_count": null,
   "id": "14cfb185-a64b-4a51-bc60-95b37b4b2363",
   "metadata": {},
   "outputs": [],
   "source": [
    "\n",
    "destination_chains = {}\n",
    "for p_info in prompt_infos:\n",
    "    name = p_info[\"name\"]\n",
    "    prompt_template = p_info[\"prompt_template\"]\n",
    "    prompt = ChatPromptTemplate.from_template(template=prompt_template)\n",
    "    chain = LLMChain(llm=llm, prompt=prompt)\n",
    "    destination_chains[name] = chain  \n",
    "    \n",
    "destinations = [f\"{p['name']}: {p['description']}\" for p in prompt_infos]\n",
    "destinations_str = \"\\n\".join(destinations)"
   ]
  },
  {
   "cell_type": "code",
   "execution_count": null,
   "id": "3de31e5b-643d-4f6c-bf65-d6874ae345bf",
   "metadata": {},
   "outputs": [],
   "source": [
    "default_prompt = ChatPromptTemplate.from_template(\"{input}\")\n",
    "default_chain = LLMChain(llm=llm, prompt=default_prompt)"
   ]
  },
  {
   "cell_type": "code",
   "execution_count": null,
   "id": "b1159651-a4bf-4c04-a4b3-d83e68e50a69",
   "metadata": {},
   "outputs": [],
   "source": [
    "MULTI_PROMPT_ROUTER_TEMPLATE = \"\"\"Given a raw text input to a \\\n",
    "language model select the model prompt best suited for the input. \\\n",
    "You will be given the names of the available prompts and a \\\n",
    "description of what the prompt is best suited for. \\\n",
    "You may also revise the original input if you think that revising\\\n",
    "it will ultimately lead to a better response from the language model.\n",
    "\n",
    "<< FORMATTING >>\n",
    "Return a markdown code snippet with a JSON object formatted to look like:\n",
    "```json\n",
    "{{{{\n",
    "    \"destination\": string \\ name of the prompt to use or \"DEFAULT\"\n",
    "    \"next_inputs\": string \\ a potentially modified version of the original input\n",
    "}}}}\n",
    "```\n",
    "\n",
    "REMEMBER: \"destination\" MUST be one of the candidate prompt \\\n",
    "names specified below OR it can be \"DEFAULT\" if the input is not\\\n",
    "well suited for any of the candidate prompts.\n",
    "REMEMBER: \"next_inputs\" can just be the original input \\\n",
    "if you don't think any modifications are needed.\n",
    "\n",
    "<< CANDIDATE PROMPTS >>\n",
    "{destinations}\n",
    "\n",
    "<< INPUT >>\n",
    "{{input}}\n",
    "\n",
    "<< OUTPUT (remember to include the ```json)>>\"\"\""
   ]
  },
  {
   "cell_type": "code",
   "execution_count": null,
   "id": "0aededf4-f14a-433f-9b54-e02237a91417",
   "metadata": {},
   "outputs": [],
   "source": [
    "chain = MultiPromptChain(router_chain=router_chain, \n",
    "                         destination_chains=destination_chains, \n",
    "                         default_chain=default_chain, verbose=True\n",
    "                        )"
   ]
  },
  {
   "cell_type": "code",
   "execution_count": null,
   "id": "49d7bf30-cb2b-4207-8fca-6b1174811e73",
   "metadata": {},
   "outputs": [],
   "source": [
    "chain.run(\"What is black body radiation?\")"
   ]
  },
  {
   "cell_type": "code",
   "execution_count": null,
   "id": "1fad9aa4-1237-4cc7-bebd-cf0db82a5af8",
   "metadata": {},
   "outputs": [],
   "source": [
    "chain.run(\"what is 2 + 2\")"
   ]
  },
  {
   "cell_type": "code",
   "execution_count": null,
   "id": "85d26e2e-2e5a-4ba5-9943-e28957856534",
   "metadata": {},
   "outputs": [],
   "source": [
    "chain.run(\"Why does every cell in our body contain DNA?\")"
   ]
  }
 ],
 "metadata": {
  "kernelspec": {
   "display_name": "Python 3 (ipykernel)",
   "language": "python",
   "name": "python3"
  },
  "language_info": {
   "codemirror_mode": {
    "name": "ipython",
    "version": 3
   },
   "file_extension": ".py",
   "mimetype": "text/x-python",
   "name": "python",
   "nbconvert_exporter": "python",
   "pygments_lexer": "ipython3",
   "version": "3.12.4"
  }
 },
 "nbformat": 4,
 "nbformat_minor": 5
}
