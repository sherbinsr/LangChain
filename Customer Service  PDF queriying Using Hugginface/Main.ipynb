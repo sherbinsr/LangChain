{
 "cells": [
  {
   "cell_type": "code",
   "execution_count": null,
   "metadata": {},
   "outputs": [],
   "source": [
    "from langchain_community.document_loaders import PyPDFLoader\n",
    "from langchain_community.document_loaders import PyPDFDirectoryLoader\n",
    "from langchain.text_splitter import RecursiveCharacterTextSplitter\n",
    "from langchain_community.vectorstores import FAISS\n",
    "\n",
    "from langchain_community.embeddings import HuggingFaceBgeEmbeddings\n"
   ]
  },
  {
   "cell_type": "code",
   "execution_count": 24,
   "metadata": {},
   "outputs": [
    {
     "data": {
      "text/plain": [
       "Document(metadata={'source': 'us_census\\\\acsbr-015.pdf', 'page': 0}, page_content='Health Insurance Coverage Status and Type \\nby Geography: 2021 and 2022\\nAmerican Community Survey Briefs\\nACSBR-015Issued September 2023Douglas Conway and Breauna Branch\\nINTRODUCTION\\nDemographic shifts as well as economic and govern-\\nment policy changes can affect people’s access to health coverage. For example, between 2021 and 2022, the labor market continued to improve, which may have affected private coverage in the United States \\nduring that time.\\n1 Public policy changes included \\nthe renewal of the Public Health Emergency, which \\nallowed Medicaid enrollees to remain covered under the Continuous Enrollment Provision.\\n2 The American \\nRescue Plan (ARP) enhanced Marketplace premium subsidies for those with incomes above 400 percent of the poverty level as well as for unemployed people.\\n3')"
      ]
     },
     "execution_count": 24,
     "metadata": {},
     "output_type": "execute_result"
    }
   ],
   "source": [
    "## Read the ppdfs from the folder\n",
    "loader=PyPDFDirectoryLoader(\"./us_census\")\n",
    "\n",
    "documents=loader.load()\n",
    "\n",
    "text_splitter=RecursiveCharacterTextSplitter(chunk_size=1000,chunk_overlap=200)\n",
    "\n",
    "final_documents=text_splitter.split_documents(documents)\n",
    "final_documents[0]"
   ]
  },
  {
   "cell_type": "code",
   "execution_count": 25,
   "metadata": {},
   "outputs": [
    {
     "data": {
      "text/plain": [
       "316"
      ]
     },
     "execution_count": 25,
     "metadata": {},
     "output_type": "execute_result"
    }
   ],
   "source": [
    "len(final_documents)"
   ]
  },
  {
   "cell_type": "code",
   "execution_count": 26,
   "metadata": {},
   "outputs": [],
   "source": [
    "## Embedding Using Huggingface\n",
    "huggingface_embeddings=HuggingFaceBgeEmbeddings(\n",
    "    model_name=\"BAAI/bge-small-en-v1.5\",      #sentence-transformers/all-MiniLM-l6-v2\n",
    "    model_kwargs={'device':'cpu'},\n",
    "    encode_kwargs={'normalize_embeddings':True}\n",
    "\n",
    ")"
   ]
  },
  {
   "cell_type": "code",
   "execution_count": 27,
   "metadata": {},
   "outputs": [
    {
     "name": "stdout",
     "output_type": "stream",
     "text": [
      "[-8.46568570e-02 -1.19099393e-02 -3.37892659e-02  2.94559225e-02\n",
      "  5.19159809e-02  5.73839694e-02 -4.10017669e-02  2.74268202e-02\n",
      " -1.05128214e-01 -1.58055983e-02  7.94858634e-02  5.64318448e-02\n",
      " -1.31765399e-02 -3.41544002e-02  5.81603777e-03  4.72547822e-02\n",
      " -1.30746784e-02  3.12992721e-03 -3.44225913e-02  3.08406502e-02\n",
      " -4.09086607e-02  3.52738090e-02 -2.43761223e-02 -4.35831621e-02\n",
      "  2.41503697e-02  1.31986560e-02 -4.84450301e-03  1.92347504e-02\n",
      " -5.43912910e-02 -1.42735064e-01  5.15528582e-03  2.93115824e-02\n",
      " -5.60810864e-02 -8.53534415e-03  3.14141326e-02  2.76736412e-02\n",
      " -2.06188057e-02  8.24231580e-02  4.15425599e-02  5.79655133e-02\n",
      " -3.71587165e-02  6.26160717e-03 -2.41390113e-02 -5.61794452e-03\n",
      " -2.51715109e-02  5.04971296e-03 -2.52801068e-02 -2.91943084e-03\n",
      " -8.24046228e-03 -5.69604449e-02  2.30822824e-02 -5.54217445e-03\n",
      "  5.11555672e-02  6.09937720e-02  6.49766251e-02 -5.38513809e-02\n",
      "  2.19109580e-02 -2.54194364e-02 -4.49222922e-02  4.22459133e-02\n",
      "  4.75252345e-02  7.23218080e-04 -2.61084527e-01  9.30173248e-02\n",
      "  1.13597503e-02  4.90668975e-02 -1.06286965e-02 -8.08731467e-03\n",
      " -1.53562408e-02 -5.33786081e-02 -6.89967275e-02  4.75178100e-02\n",
      " -5.68595976e-02  9.38642025e-03  4.24065962e-02  2.54346915e-02\n",
      "  9.67096351e-03  7.90801179e-03  2.25160997e-02  1.91007357e-03\n",
      "  3.06091998e-02  2.43992135e-02 -1.34115266e-02 -4.77401428e-02\n",
      "  4.89940159e-02 -9.49416608e-02  5.62894344e-02 -4.76260707e-02\n",
      "  2.81447303e-02 -2.54329611e-02 -3.84951271e-02  1.00939898e-02\n",
      "  1.90559076e-04  3.36625502e-02  1.00181717e-02  2.83523966e-02\n",
      " -2.68964935e-03 -6.96358830e-03 -3.54914591e-02  3.42758954e-01\n",
      " -1.94496419e-02  1.43988151e-02 -5.68815321e-03  1.71480868e-02\n",
      " -2.88607832e-03 -5.81653155e-02  6.35174336e-04  5.17299864e-03\n",
      "  2.06331350e-02  1.65708307e-02  2.15096921e-02 -2.38796081e-02\n",
      "  2.89275479e-02  4.67319414e-02 -3.56105082e-02 -1.05079105e-02\n",
      "  3.70704681e-02  1.57502647e-02  9.43095535e-02 -2.50715278e-02\n",
      " -9.55960993e-03  1.78565774e-02 -9.41778906e-03 -4.57859039e-02\n",
      "  1.82930678e-02  5.81431501e-02  4.94311377e-02  1.46350697e-01\n",
      "  2.16057692e-02 -3.92896086e-02  1.03241257e-01 -3.48300263e-02\n",
      " -6.61870185e-03  7.07988348e-03  9.26994195e-04  4.49868338e-03\n",
      " -2.89777648e-02  4.02419195e-02 -5.23191597e-03  4.59962003e-02\n",
      "  4.23972169e-03 -4.83793952e-03 -3.23240063e-03 -1.41072914e-01\n",
      " -3.76811251e-02  1.83623880e-01 -2.96609588e-02  4.90660444e-02\n",
      "  3.90551686e-02 -1.57757830e-02 -3.86351310e-02  4.65631150e-02\n",
      " -2.43485980e-02  3.57694998e-02 -3.54947038e-02  2.36265883e-02\n",
      " -3.41997773e-04  3.11703719e-02 -2.39356589e-02 -5.94757572e-02\n",
      "  6.06259368e-02 -3.81902084e-02 -7.04255179e-02  1.42479977e-02\n",
      "  3.34432237e-02 -3.85255143e-02 -1.71951484e-02 -7.12288693e-02\n",
      "  2.64976323e-02  1.09495986e-02  1.32650100e-02  3.89527977e-02\n",
      "  1.60355102e-02 -3.17630395e-02  1.02013700e-01  2.92912219e-02\n",
      " -2.29205694e-02 -8.38055369e-03 -1.72172580e-02 -6.78820908e-02\n",
      "  5.39420452e-03 -2.32346915e-02 -6.07407205e-02 -3.86575572e-02\n",
      " -1.54306637e-02 -3.84983793e-02 -5.02867438e-02  5.04235178e-02\n",
      "  4.94898185e-02 -1.41083132e-02 -2.98144831e-03  9.76415904e-05\n",
      " -6.59189969e-02  3.01007144e-02 -5.46575116e-04 -1.64787769e-02\n",
      " -5.21614589e-02 -3.30225611e-03  4.75748479e-02 -3.40808220e-02\n",
      " -2.98659764e-02  2.75014564e-02  5.90202166e-03 -2.64043850e-03\n",
      " -1.61242895e-02  2.05222368e-02  1.21105062e-02 -5.49782477e-02\n",
      "  5.10389470e-02 -7.92082027e-03  7.25205196e-03  3.51751149e-02\n",
      "  3.66277024e-02  5.67721901e-04  2.60788668e-02  2.50971038e-02\n",
      "  1.14481105e-02 -2.54925173e-02  1.96417496e-02  2.84220278e-02\n",
      "  2.82554198e-02  6.57489821e-02  9.26553980e-02 -2.68629760e-01\n",
      " -8.90590425e-04  3.16916895e-03  5.08356327e-03 -6.42100722e-02\n",
      " -4.56614718e-02 -4.62259687e-02  3.60924751e-02  8.29054601e-03\n",
      "  8.92349482e-02  5.68022057e-02  6.91056903e-03 -1.08683920e-02\n",
      "  9.36060175e-02  1.03680408e-02 -8.60929936e-02  1.77332051e-02\n",
      " -2.00802367e-02 -1.85124837e-02  5.62398578e-04 -9.38338414e-03\n",
      "  7.76064117e-03 -5.37273511e-02 -2.30028201e-02  7.48890638e-02\n",
      " -1.29693020e-02  6.53717294e-02 -4.24983501e-02 -7.10294172e-02\n",
      " -1.56803355e-02 -6.23028539e-02  5.36034368e-02 -6.53212285e-03\n",
      " -1.15985498e-01  6.70968071e-02  1.93367135e-02 -6.67828023e-02\n",
      " -2.01755110e-03 -6.27637058e-02 -2.95004919e-02 -2.71986388e-02\n",
      "  4.49796692e-02 -6.61587194e-02  2.13750992e-02 -2.94077843e-02\n",
      " -5.71503490e-02  4.05282192e-02  7.11039528e-02 -6.80165216e-02\n",
      "  2.11908761e-02  1.30515583e-02 -2.91153025e-02 -2.25581806e-02\n",
      " -1.60188582e-02  3.20554040e-02 -5.89460470e-02 -2.97131781e-02\n",
      "  3.42681557e-02 -1.58375949e-02 -9.31769796e-03  3.59834321e-02\n",
      "  3.65340966e-03  4.73319888e-02 -1.06235305e-02 -8.69734865e-03\n",
      " -4.38009948e-02  5.94557961e-03 -2.41493713e-02 -7.79940560e-02\n",
      "  1.46542210e-02  1.05613843e-02  5.45365401e-02 -3.17896754e-02\n",
      " -1.26763098e-02  7.92560913e-03 -1.38133140e-02  5.01396582e-02\n",
      " -7.28575140e-03 -5.23704337e-03 -5.32640964e-02  4.78208736e-02\n",
      " -5.38353696e-02  1.11437272e-02  3.96674350e-02 -1.93496570e-02\n",
      "  9.94820148e-03 -3.53475427e-03  3.58561776e-03 -9.61502641e-03\n",
      "  2.15323977e-02 -1.82350427e-02 -2.15188786e-02 -1.38835916e-02\n",
      " -1.76699478e-02  3.37993784e-04 -3.84875573e-04 -2.25800514e-01\n",
      "  4.51242737e-02  1.53376907e-02 -1.76967271e-02 -1.42526338e-02\n",
      " -7.00282119e-03 -3.13725173e-02  2.13674293e-03 -9.28346254e-03\n",
      " -1.66986771e-02  4.66264151e-02  7.71809295e-02  1.26696974e-01\n",
      " -1.83595549e-02 -1.39636826e-02 -1.23303430e-03  5.93338832e-02\n",
      " -1.37461477e-03  1.98233724e-02 -2.92635746e-02  4.96656671e-02\n",
      " -6.07207529e-02  1.53544784e-01 -4.67309430e-02  1.97028797e-02\n",
      " -7.67833591e-02 -7.73228519e-03  3.71618643e-02 -3.00591253e-02\n",
      "  8.30261409e-03  2.06259098e-02  1.97465485e-03  3.39764021e-02\n",
      " -1.70869399e-02  4.84795980e-02  1.20781818e-02  1.24999071e-02\n",
      "  5.61724380e-02  9.88543034e-03  2.13879086e-02 -4.25293595e-02\n",
      " -1.94036961e-02  2.47837938e-02  1.37260817e-02  6.41119555e-02\n",
      " -2.84480937e-02 -4.64116931e-02 -5.36255501e-02 -6.94992632e-05\n",
      "  6.45710006e-02 -4.32014931e-04 -1.32470997e-02  5.85134234e-03\n",
      "  1.48595534e-02 -5.41847423e-02 -2.02038474e-02 -5.98262809e-02\n",
      "  3.67028825e-02  1.43321708e-03 -8.64462741e-03  2.90671792e-02\n",
      "  4.38365676e-02 -7.64942691e-02  1.55717824e-02  6.65831119e-02]\n",
      "(384,)\n"
     ]
    }
   ],
   "source": [
    "import  numpy as np\n",
    "print(np.array(huggingface_embeddings.embed_query(final_documents[0].page_content)))\n",
    "print(np.array(huggingface_embeddings.embed_query(final_documents[0].page_content)).shape)"
   ]
  },
  {
   "cell_type": "code",
   "execution_count": 28,
   "metadata": {},
   "outputs": [],
   "source": [
    "## VectorStore Creation\n",
    "vectorstore=FAISS.from_documents(final_documents[:120],huggingface_embeddings)"
   ]
  },
  {
   "cell_type": "code",
   "execution_count": 29,
   "metadata": {},
   "outputs": [
    {
     "name": "stdout",
     "output_type": "stream",
     "text": [
      "2 U.S. Census Bureau\n",
      "WHAT IS HEALTH INSURANCE COVERAGE?\n",
      "This brief presents state-level estimates of health insurance coverage \n",
      "using data from the American Community Survey (ACS). The  \n",
      "U.S. Census Bureau conducts the ACS throughout the year; the \n",
      "survey asks respondents to report their coverage at the time of \n",
      "interview. The resulting measure of health insurance coverage, \n",
      "therefore, reflects an annual average of current comprehensive \n",
      "health insurance coverage status.* This uninsured rate measures a \n",
      "different concept than the measure based on the Current Population \n",
      "Survey Annual Social and Economic Supplement (CPS ASEC). \n",
      "For reporting purposes, the ACS broadly classifies health insurance \n",
      "coverage as private insurance or public insurance. The ACS defines \n",
      "private health insurance as a plan provided through an employer \n",
      "or a union, coverage purchased directly by an individual from an \n",
      "insurance company or through an exchange (such as healthcare.\n"
     ]
    }
   ],
   "source": [
    "## Query using Similarity Search\n",
    "query=\"WHAT IS HEALTH INSURANCE COVERAGE?\"\n",
    "relevant_docments=vectorstore.similarity_search(query)\n",
    "\n",
    "print(relevant_docments[0].page_content)"
   ]
  },
  {
   "cell_type": "code",
   "execution_count": null,
   "metadata": {},
   "outputs": [],
   "source": [
    "from dotenv import load_dotenv\n",
    "import os\n",
    "# Load environment variables from the .env file\n",
    "load_dotenv()"
   ]
  },
  {
   "cell_type": "code",
   "execution_count": null,
   "metadata": {},
   "outputs": [],
   "source": [
    "# Access the Hugging Face API token\n",
    "huggingface_api_token = os.getenv(\"HUGGINGFACEHUB_API_TOKEN\")"
   ]
  },
  {
   "cell_type": "code",
   "execution_count": null,
   "metadata": {},
   "outputs": [],
   "source": [
    "from langchain_huggingface import HuggingFaceEndpoint\n",
    "\n",
    "llm = HuggingFaceEndpoint(\n",
    "    repo_id=\"mistralai/Mistral-7B-v0.1\",\n",
    "    temperature=0.1,\n",
    "    model_kwargs={\"max_length\": 500},\n",
    "    huggingfacehub_api_token=huggingface_api_token\n",
    ")\n",
    "\n",
    "query=\"What is the health insurance coverage?\"\n",
    "llm.invoke(query)"
   ]
  }
 ],
 "metadata": {
  "kernelspec": {
   "display_name": "base",
   "language": "python",
   "name": "python3"
  },
  "language_info": {
   "codemirror_mode": {
    "name": "ipython",
    "version": 3
   },
   "file_extension": ".py",
   "mimetype": "text/x-python",
   "name": "python",
   "nbconvert_exporter": "python",
   "pygments_lexer": "ipython3",
   "version": "3.12.4"
  }
 },
 "nbformat": 4,
 "nbformat_minor": 2
}
